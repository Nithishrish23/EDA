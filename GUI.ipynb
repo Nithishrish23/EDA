{
 "cells": [
  {
   "cell_type": "code",
   "execution_count": 3,
   "id": "44328dc2",
   "metadata": {},
   "outputs": [],
   "source": [
    "from tkinter import *\n",
    "import sqlite3\n",
    "import tkinter.ttk as ttk\n",
    "import tkinter.messagebox as tkMessageBox"
   ]
  },
  {
   "cell_type": "code",
   "execution_count": null,
   "id": "f042fcd9",
   "metadata": {},
   "outputs": [],
   "source": [
    "root = Tk()\n",
    "root.title(\"A simple CRUD application\")"
   ]
  },
  {
   "cell_type": "code",
   "execution_count": null,
   "id": "5653fd8b",
   "metadata": {},
   "outputs": [],
   "source": [
    "def Database():\n",
    "global conn,cursor\n",
    "conn = sqlite3.connect('simple.db')\n",
    "cursor = conn.cursor()\n",
    "cursor.execute(\"CREATE TABLE IF NOT EXISTS member (mem_id INTEGER PRIMARY KEY A\n",
    "def Create():\n",
    "    if FIRSTNAME.get() == \"\" or LASTNAME.get() == \"\" or GENDER.get() == \"\" or ADDRE\n",
    "        txt_result.config(text=\"Please enter all the fields \",fd = \"red\")\n",
    "else:\n",
    "    Database()\n",
    "    cursor.execute(\"INSERT INTO member(firstname,lastname,gender,address,userna\n",
    "    conn.commit()\n",
    "    FIRSTNAME.set(\"\")\n",
    "    LASTNAME.set(\"\")\n",
    "    GENDER.set(\"\")\n",
    "    ADDRESS.set(\"\")\n",
    "    USERNAME.set(\"\")\n",
    "    PASSWORD.set(\"\")\n",
    "    cursor.close()\n",
    "    conn.close()\n",
    "    txt_result.config(text=\"Record Inserted ! \",fg =\"Green\")\n",
    "\n",
    "def Read():\n",
    "tree.delete(*tree.get_children)\n",
    "Database()\n",
    "cursor.execute(\"SELECT * FROM member ORDER BY lastname ASC\")\n",
    "fetch = cursor.fetchall()\n",
    "for data in fetch :\n",
    "tree.insert('',\"end\",values=(data[0],data[1],data[2],data[3],data[4],data[5\n",
    "cursor.close()\n",
    "txt_result.config(text=\"Successfully fetched data !\",fg=\"back\")\n",
    "def Exit():\n",
    "result = tkMessageBox.askquestion(\"Do you want to exit ? (y/n)\",icon=\"warning\")\n",
    "if result == 'yes':\n",
    "root.destroy()"
   ]
  },
  {
   "cell_type": "code",
   "execution_count": null,
   "id": "e697934d",
   "metadata": {},
   "outputs": [],
   "source": []
  }
 ],
 "metadata": {
  "kernelspec": {
   "display_name": "Python 3 (ipykernel)",
   "language": "python",
   "name": "python3"
  },
  "language_info": {
   "codemirror_mode": {
    "name": "ipython",
    "version": 3
   },
   "file_extension": ".py",
   "mimetype": "text/x-python",
   "name": "python",
   "nbconvert_exporter": "python",
   "pygments_lexer": "ipython3",
   "version": "3.9.12"
  }
 },
 "nbformat": 4,
 "nbformat_minor": 5
}
