{
 "cells": [
  {
   "cell_type": "markdown",
   "id": "d6307439",
   "metadata": {},
   "source": [
    "## Project 1-A"
   ]
  },
  {
   "cell_type": "code",
   "execution_count": 1,
   "id": "111e11ef",
   "metadata": {},
   "outputs": [
    {
     "name": "stdout",
     "output_type": "stream",
     "text": [
      "Enter the choice:\n",
      "                     Press1..Add a new word\n",
      "                     Press2..Find the meaning\n",
      "                     Press3..Update a word\n",
      "                     Press4.Exit1\n",
      "Enter the word Ram\n",
      "Enter the meaning:Name\n",
      "Enter the choice:\n",
      "                     Press1..Add a new word\n",
      "                     Press2..Find the meaning\n",
      "                     Press3..Update a word\n",
      "                     Press4.Exit4\n",
      "Thank You for choosing dictonary app\n"
     ]
    }
   ],
   "source": [
    "import json\n",
    "\n",
    "while True:\n",
    "    n = int(input('''Enter the choice:\n",
    "                     Press1..Add a new word\n",
    "                     Press2..Find the meaning\n",
    "                     Press3..Update a word\n",
    "                     Press4.Exit'''))\n",
    "    if(n==1):\n",
    "        f=open('word.txt','w')\n",
    "        d={}\n",
    "        word=input('Enter the word ')\n",
    "        meaning=input('Enter the meaning:')\n",
    "        d[word]=meaning\n",
    "        json.dump(d,f)\n",
    "        f.close()\n",
    "        \n",
    "    elif (n==2):\n",
    "        f=open('word.txt','r')\n",
    "        find=input('Enter the word:')\n",
    "        if find in d:\n",
    "            print('the meaning is ',d.get(find))\n",
    "        else:\n",
    "            print('The meaning is not found')\n",
    "            json.dump(d,f)\n",
    "            f.close()\n",
    "            \n",
    "    elif(n==3):\n",
    "        f=open('word.txt','w')\n",
    "        word=input('Enter the word:')\n",
    "        updated=input('Enter the meaning')\n",
    "        d[word]=updated\n",
    "        json.dump(d,f)\n",
    "        f.close()\n",
    "    else:\n",
    "        print('Thank You for choosing dictonary app')\n",
    "        break\n",
    "            "
   ]
  },
  {
   "cell_type": "code",
   "execution_count": null,
   "id": "ac5cfd66",
   "metadata": {},
   "outputs": [],
   "source": []
  },
  {
   "cell_type": "markdown",
   "id": "e90d4d0e",
   "metadata": {},
   "source": [
    "## Project 1-B"
   ]
  },
  {
   "cell_type": "code",
   "execution_count": 1,
   "id": "1e5d906f",
   "metadata": {},
   "outputs": [],
   "source": [
    "from tkinter import*\n",
    "import sqlite3\n",
    "\n"
   ]
  },
  {
   "cell_type": "code",
   "execution_count": 2,
   "id": "8f6e96fa",
   "metadata": {},
   "outputs": [
    {
     "data": {
      "text/plain": [
       "''"
      ]
     },
     "execution_count": 2,
     "metadata": {},
     "output_type": "execute_result"
    }
   ],
   "source": [
    "root=Tk()\n",
    "root.title('A Library Application')"
   ]
  },
  {
   "cell_type": "markdown",
   "id": "fbbf2fbf",
   "metadata": {},
   "source": [
    "## Frame"
   ]
  },
  {
   "cell_type": "code",
   "execution_count": 3,
   "id": "af7b05f9",
   "metadata": {},
   "outputs": [],
   "source": [
    "Top=Frame(root,width=900,bd=8,relief='raise')\n",
    "Top.pack(side=TOP)\n",
    "left=Frame(root,width=900,bd=8,relief='raise')\n",
    "left.pack(side=LEFT)\n",
    "right=Frame(root,width=900,bd=8,relief='raise')\n",
    "right.pack(side=Right)\n",
    "button=Button()"
   ]
  },
  {
   "cell_type": "code",
   "execution_count": 4,
   "id": "13be47cb",
   "metadata": {},
   "outputs": [],
   "source": [
    "root.mainloop()"
   ]
  },
  {
   "cell_type": "code",
   "execution_count": null,
   "id": "3259c9d2",
   "metadata": {},
   "outputs": [],
   "source": []
  },
  {
   "cell_type": "code",
   "execution_count": null,
   "id": "9d885a31",
   "metadata": {},
   "outputs": [],
   "source": []
  }
 ],
 "metadata": {
  "kernelspec": {
   "display_name": "Python 3 (ipykernel)",
   "language": "python",
   "name": "python3"
  },
  "language_info": {
   "codemirror_mode": {
    "name": "ipython",
    "version": 3
   },
   "file_extension": ".py",
   "mimetype": "text/x-python",
   "name": "python",
   "nbconvert_exporter": "python",
   "pygments_lexer": "ipython3",
   "version": "3.9.12"
  }
 },
 "nbformat": 4,
 "nbformat_minor": 5
}
